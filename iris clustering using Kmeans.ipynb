{
 "cells": [
  {
   "cell_type": "code",
   "execution_count": 1,
   "id": "b3a9c3c7",
   "metadata": {},
   "outputs": [],
   "source": [
    "# import numpy to help in modelling and pandas for data loading\n",
    "import numpy as np\n",
    "import pandas as pd\n",
    "import matplotlib.pyplot as plt\n",
    "%matplotlib inline"
   ]
  },
  {
   "cell_type": "code",
   "execution_count": 2,
   "id": "feee24ac",
   "metadata": {},
   "outputs": [],
   "source": [
    "# define euclidean distance function to compute the distances\n",
    "def euclidean(x1, x2):\n",
    "    euc = np.sqrt(np.sum(x1 - x2) ** 2)\n",
    "    return euc"
   ]
  },
  {
   "cell_type": "code",
   "execution_count": 3,
   "id": "9c940910",
   "metadata": {},
   "outputs": [],
   "source": [
    "''' Create Kmeans class which takes the data as input and predicts using unsupervised learning.\n",
    "'''\n",
    "class Kmeans:\n",
    "    def __init__(self, K=5, max_iters=100, centers=False):\n",
    "        self.K = K\n",
    "        self.max_iters = max_iters\n",
    "        self.centers = centers\n",
    "        \n",
    "        # list of clusters\n",
    "        self.clusters = [[] for _ in range(self.K)]\n",
    "        \n",
    "        #list of centroids\n",
    "        centroids = []\n",
    "    # define predict function    \n",
    "    def predict(self, X_test):\n",
    "        self.X = X_test\n",
    "        self.num_samples, self.num_feats = X_test.shape\n",
    "        \n",
    "        # initialize the centroids\n",
    "        rand_idx_samp = np.random.choice(self.num_samples, self.K, replace=False)\n",
    "        \n",
    "        # initilize centroids\n",
    "        self.centroids = [self.X[idx] for idx in rand_idx_samp]\n",
    "        \n",
    "            \n",
    "        # optimization\n",
    "        for _ in range(self.max_iters):\n",
    "            # update clusters\n",
    "            self.clusters = self.build_clusters(self.centroids)\n",
    "            \n",
    "            # update centroids\n",
    "            prev_cent = self.centroids\n",
    "            self.centroids = self.get_cents(self.clusters)\n",
    "            \n",
    "            # check convergence\n",
    "            if self.is_conv(prev_cent, self.centroids):\n",
    "                break\n",
    "        if self.centers == True:\n",
    "            return self.centroids\n",
    "        else:\n",
    "            # return labels clusters\n",
    "            return self.get_labels(self.clusters)\n",
    "    \n",
    "    # get labels function\n",
    "    def get_labels(self, clusters):\n",
    "        # create empty labels list\n",
    "        labels = np.empty(self.num_samples)\n",
    "        \n",
    "        for clus_idx, clust in enumerate(clusters):\n",
    "            for samp in clust:\n",
    "                labels[samp] = clus_idx\n",
    "                \n",
    "        return labels\n",
    "    \n",
    "    # function to get convergency \n",
    "    def is_conv(self, prev_cent, centroids):\n",
    "        # get distances and if the converge which is equal to zero\n",
    "        dists = [euclidean(prev_cent[i], centroids[i]) for i in range(self.K)]\n",
    "        \n",
    "        return sum(dists) == 0 \n",
    "        \n",
    "    # build clusters function \n",
    "    def build_clusters(self, centroids):\n",
    "        clusters = [[] for _ in range(self.K)]\n",
    "        \n",
    "        for idx, samp in enumerate(self.X):\n",
    "            cent_idx = self.nearest_cent(samp, centroids)\n",
    "            clusters[cent_idx].append(idx)\n",
    "            \n",
    "        return clusters\n",
    "    \n",
    "    # helper function for nearest centroid\n",
    "    def nearest_cent(self, sample, centroids):\n",
    "        # get the distances using euclidean function\n",
    "        dist = [euclidean(sample, point) for point in centroids]\n",
    "        nearest_cent = np.argmin(dist)\n",
    "        return nearest_cent\n",
    "    \n",
    "    # get centroids function \n",
    "    def get_cents(self, clusters):\n",
    "        # initialize with zeros\n",
    "        cents = np.zeros((self.K, self.num_feats))\n",
    "        \n",
    "        for clus_idx, clust in enumerate(clusters):\n",
    "            clust_mean = np.mean(self.X[clust], axis=0)\n",
    "            cents[clus_idx] = clust_mean\n",
    "        return cents"
   ]
  },
  {
   "cell_type": "code",
   "execution_count": 4,
   "id": "f6e73f90",
   "metadata": {},
   "outputs": [],
   "source": [
    "#data = np.genfromtxt(r\"iris.txt\", delimiter=\",\", replace_space=\" \")"
   ]
  },
  {
   "cell_type": "code",
   "execution_count": 5,
   "id": "bf48249c",
   "metadata": {},
   "outputs": [],
   "source": [
    "data = pd.read_csv(\"iris.data\", delimiter=\",\", header=None)"
   ]
  },
  {
   "cell_type": "code",
   "execution_count": 6,
   "id": "bdee5a7e",
   "metadata": {},
   "outputs": [],
   "source": [
    "#rename specific column names\n",
    "data.rename(columns = {0:'length', 1:'width',2:'height',3:'color',4:'flower'}, inplace = True)"
   ]
  },
  {
   "cell_type": "code",
   "execution_count": 7,
   "id": "ccb77487",
   "metadata": {},
   "outputs": [
    {
     "data": {
      "text/html": [
       "<div>\n",
       "<style scoped>\n",
       "    .dataframe tbody tr th:only-of-type {\n",
       "        vertical-align: middle;\n",
       "    }\n",
       "\n",
       "    .dataframe tbody tr th {\n",
       "        vertical-align: top;\n",
       "    }\n",
       "\n",
       "    .dataframe thead th {\n",
       "        text-align: right;\n",
       "    }\n",
       "</style>\n",
       "<table border=\"1\" class=\"dataframe\">\n",
       "  <thead>\n",
       "    <tr style=\"text-align: right;\">\n",
       "      <th></th>\n",
       "      <th>length</th>\n",
       "      <th>width</th>\n",
       "      <th>height</th>\n",
       "      <th>color</th>\n",
       "      <th>flower</th>\n",
       "    </tr>\n",
       "  </thead>\n",
       "  <tbody>\n",
       "    <tr>\n",
       "      <th>0</th>\n",
       "      <td>5.1</td>\n",
       "      <td>3.5</td>\n",
       "      <td>1.4</td>\n",
       "      <td>0.2</td>\n",
       "      <td>Iris-setosa</td>\n",
       "    </tr>\n",
       "    <tr>\n",
       "      <th>1</th>\n",
       "      <td>4.9</td>\n",
       "      <td>3.0</td>\n",
       "      <td>1.4</td>\n",
       "      <td>0.2</td>\n",
       "      <td>Iris-setosa</td>\n",
       "    </tr>\n",
       "    <tr>\n",
       "      <th>2</th>\n",
       "      <td>4.7</td>\n",
       "      <td>3.2</td>\n",
       "      <td>1.3</td>\n",
       "      <td>0.2</td>\n",
       "      <td>Iris-setosa</td>\n",
       "    </tr>\n",
       "    <tr>\n",
       "      <th>3</th>\n",
       "      <td>4.6</td>\n",
       "      <td>3.1</td>\n",
       "      <td>1.5</td>\n",
       "      <td>0.2</td>\n",
       "      <td>Iris-setosa</td>\n",
       "    </tr>\n",
       "    <tr>\n",
       "      <th>4</th>\n",
       "      <td>5.0</td>\n",
       "      <td>3.6</td>\n",
       "      <td>1.4</td>\n",
       "      <td>0.2</td>\n",
       "      <td>Iris-setosa</td>\n",
       "    </tr>\n",
       "    <tr>\n",
       "      <th>...</th>\n",
       "      <td>...</td>\n",
       "      <td>...</td>\n",
       "      <td>...</td>\n",
       "      <td>...</td>\n",
       "      <td>...</td>\n",
       "    </tr>\n",
       "    <tr>\n",
       "      <th>145</th>\n",
       "      <td>6.7</td>\n",
       "      <td>3.0</td>\n",
       "      <td>5.2</td>\n",
       "      <td>2.3</td>\n",
       "      <td>Iris-virginica</td>\n",
       "    </tr>\n",
       "    <tr>\n",
       "      <th>146</th>\n",
       "      <td>6.3</td>\n",
       "      <td>2.5</td>\n",
       "      <td>5.0</td>\n",
       "      <td>1.9</td>\n",
       "      <td>Iris-virginica</td>\n",
       "    </tr>\n",
       "    <tr>\n",
       "      <th>147</th>\n",
       "      <td>6.5</td>\n",
       "      <td>3.0</td>\n",
       "      <td>5.2</td>\n",
       "      <td>2.0</td>\n",
       "      <td>Iris-virginica</td>\n",
       "    </tr>\n",
       "    <tr>\n",
       "      <th>148</th>\n",
       "      <td>6.2</td>\n",
       "      <td>3.4</td>\n",
       "      <td>5.4</td>\n",
       "      <td>2.3</td>\n",
       "      <td>Iris-virginica</td>\n",
       "    </tr>\n",
       "    <tr>\n",
       "      <th>149</th>\n",
       "      <td>5.9</td>\n",
       "      <td>3.0</td>\n",
       "      <td>5.1</td>\n",
       "      <td>1.8</td>\n",
       "      <td>Iris-virginica</td>\n",
       "    </tr>\n",
       "  </tbody>\n",
       "</table>\n",
       "<p>150 rows × 5 columns</p>\n",
       "</div>"
      ],
      "text/plain": [
       "     length  width  height  color          flower\n",
       "0       5.1    3.5     1.4    0.2     Iris-setosa\n",
       "1       4.9    3.0     1.4    0.2     Iris-setosa\n",
       "2       4.7    3.2     1.3    0.2     Iris-setosa\n",
       "3       4.6    3.1     1.5    0.2     Iris-setosa\n",
       "4       5.0    3.6     1.4    0.2     Iris-setosa\n",
       "..      ...    ...     ...    ...             ...\n",
       "145     6.7    3.0     5.2    2.3  Iris-virginica\n",
       "146     6.3    2.5     5.0    1.9  Iris-virginica\n",
       "147     6.5    3.0     5.2    2.0  Iris-virginica\n",
       "148     6.2    3.4     5.4    2.3  Iris-virginica\n",
       "149     5.9    3.0     5.1    1.8  Iris-virginica\n",
       "\n",
       "[150 rows x 5 columns]"
      ]
     },
     "execution_count": 7,
     "metadata": {},
     "output_type": "execute_result"
    }
   ],
   "source": [
    "data"
   ]
  },
  {
   "cell_type": "code",
   "execution_count": 8,
   "id": "900c72bb",
   "metadata": {},
   "outputs": [],
   "source": [
    "X = data.replace((['Iris-setosa', 'Iris-versicolor', 'Iris-virginica']),[0,1,2])\n",
    "y = data['flower']"
   ]
  },
  {
   "cell_type": "code",
   "execution_count": 9,
   "id": "25614ccb",
   "metadata": {},
   "outputs": [
    {
     "data": {
      "text/html": [
       "<div>\n",
       "<style scoped>\n",
       "    .dataframe tbody tr th:only-of-type {\n",
       "        vertical-align: middle;\n",
       "    }\n",
       "\n",
       "    .dataframe tbody tr th {\n",
       "        vertical-align: top;\n",
       "    }\n",
       "\n",
       "    .dataframe thead th {\n",
       "        text-align: right;\n",
       "    }\n",
       "</style>\n",
       "<table border=\"1\" class=\"dataframe\">\n",
       "  <thead>\n",
       "    <tr style=\"text-align: right;\">\n",
       "      <th></th>\n",
       "      <th>length</th>\n",
       "      <th>width</th>\n",
       "      <th>height</th>\n",
       "      <th>color</th>\n",
       "      <th>flower</th>\n",
       "    </tr>\n",
       "  </thead>\n",
       "  <tbody>\n",
       "    <tr>\n",
       "      <th>0</th>\n",
       "      <td>5.1</td>\n",
       "      <td>3.5</td>\n",
       "      <td>1.4</td>\n",
       "      <td>0.2</td>\n",
       "      <td>0</td>\n",
       "    </tr>\n",
       "    <tr>\n",
       "      <th>1</th>\n",
       "      <td>4.9</td>\n",
       "      <td>3.0</td>\n",
       "      <td>1.4</td>\n",
       "      <td>0.2</td>\n",
       "      <td>0</td>\n",
       "    </tr>\n",
       "    <tr>\n",
       "      <th>2</th>\n",
       "      <td>4.7</td>\n",
       "      <td>3.2</td>\n",
       "      <td>1.3</td>\n",
       "      <td>0.2</td>\n",
       "      <td>0</td>\n",
       "    </tr>\n",
       "    <tr>\n",
       "      <th>3</th>\n",
       "      <td>4.6</td>\n",
       "      <td>3.1</td>\n",
       "      <td>1.5</td>\n",
       "      <td>0.2</td>\n",
       "      <td>0</td>\n",
       "    </tr>\n",
       "    <tr>\n",
       "      <th>4</th>\n",
       "      <td>5.0</td>\n",
       "      <td>3.6</td>\n",
       "      <td>1.4</td>\n",
       "      <td>0.2</td>\n",
       "      <td>0</td>\n",
       "    </tr>\n",
       "    <tr>\n",
       "      <th>...</th>\n",
       "      <td>...</td>\n",
       "      <td>...</td>\n",
       "      <td>...</td>\n",
       "      <td>...</td>\n",
       "      <td>...</td>\n",
       "    </tr>\n",
       "    <tr>\n",
       "      <th>145</th>\n",
       "      <td>6.7</td>\n",
       "      <td>3.0</td>\n",
       "      <td>5.2</td>\n",
       "      <td>2.3</td>\n",
       "      <td>2</td>\n",
       "    </tr>\n",
       "    <tr>\n",
       "      <th>146</th>\n",
       "      <td>6.3</td>\n",
       "      <td>2.5</td>\n",
       "      <td>5.0</td>\n",
       "      <td>1.9</td>\n",
       "      <td>2</td>\n",
       "    </tr>\n",
       "    <tr>\n",
       "      <th>147</th>\n",
       "      <td>6.5</td>\n",
       "      <td>3.0</td>\n",
       "      <td>5.2</td>\n",
       "      <td>2.0</td>\n",
       "      <td>2</td>\n",
       "    </tr>\n",
       "    <tr>\n",
       "      <th>148</th>\n",
       "      <td>6.2</td>\n",
       "      <td>3.4</td>\n",
       "      <td>5.4</td>\n",
       "      <td>2.3</td>\n",
       "      <td>2</td>\n",
       "    </tr>\n",
       "    <tr>\n",
       "      <th>149</th>\n",
       "      <td>5.9</td>\n",
       "      <td>3.0</td>\n",
       "      <td>5.1</td>\n",
       "      <td>1.8</td>\n",
       "      <td>2</td>\n",
       "    </tr>\n",
       "  </tbody>\n",
       "</table>\n",
       "<p>150 rows × 5 columns</p>\n",
       "</div>"
      ],
      "text/plain": [
       "     length  width  height  color  flower\n",
       "0       5.1    3.5     1.4    0.2       0\n",
       "1       4.9    3.0     1.4    0.2       0\n",
       "2       4.7    3.2     1.3    0.2       0\n",
       "3       4.6    3.1     1.5    0.2       0\n",
       "4       5.0    3.6     1.4    0.2       0\n",
       "..      ...    ...     ...    ...     ...\n",
       "145     6.7    3.0     5.2    2.3       2\n",
       "146     6.3    2.5     5.0    1.9       2\n",
       "147     6.5    3.0     5.2    2.0       2\n",
       "148     6.2    3.4     5.4    2.3       2\n",
       "149     5.9    3.0     5.1    1.8       2\n",
       "\n",
       "[150 rows x 5 columns]"
      ]
     },
     "execution_count": 9,
     "metadata": {},
     "output_type": "execute_result"
    }
   ],
   "source": [
    "X"
   ]
  },
  {
   "cell_type": "code",
   "execution_count": 10,
   "id": "addea750",
   "metadata": {},
   "outputs": [
    {
     "data": {
      "image/png": "[encoded data removed]",
      "text/plain": [
       "<Figure size 432x288 with 1 Axes>"
      ]
     },
     "metadata": {
      "needs_background": "light"
     },
     "output_type": "display_data"
    }
   ],
   "source": [
    "plt.scatter(X.iloc[:,0], X.iloc[:,1], c = 'b')\n",
    "plt.show()"
   ]
  },
  {
   "cell_type": "code",
   "execution_count": 11,
   "id": "869170b5",
   "metadata": {},
   "outputs": [],
   "source": [
    "def find_best_clusters(data, min_K,max_K):\n",
    "    \n",
    "    clusters_centers = []\n",
    "    k_values = []\n",
    "    \n",
    "    for k in range(min_K, max_K):\n",
    "        k_values.append(k)\n",
    "        kM = Kmeans(K=k, max_iters=20, centers=True)\n",
    "        yp= kM.predict(np.array(data))\n",
    "        clusters_centers.append([np.max(y) for y in yp])\n",
    "    \n",
    "    return clusters_centers, k_values"
   ]
  },
  {
   "cell_type": "code",
   "execution_count": 12,
   "id": "3d34e72c",
   "metadata": {},
   "outputs": [],
   "source": [
    "def generate_elbow_plot(clusters_centers, k_values):\n",
    "    \n",
    "    figure = plt.subplots(figsize = (12, 6))\n",
    "    plt.plot(k_values, clusters_centers, 'o-', color = 'orange')\n",
    "    plt.xlabel(\"Number of Clusters (K)\")\n",
    "    plt.ylabel(\"Cluster Inertia\")\n",
    "    plt.title(\"Elbow Plot of KMeans\")\n",
    "    plt.show()"
   ]
  },
  {
   "cell_type": "code",
   "execution_count": 13,
   "id": "e83910b0",
   "metadata": {},
   "outputs": [
    {
     "name": "stderr",
     "output_type": "stream",
     "text": [
      "C:\\Users\\jose\\anaconda3\\lib\\site-packages\\numpy\\core\\fromnumeric.py:3419: RuntimeWarning: Mean of empty slice.\n",
      "  return _methods._mean(a, axis=axis, dtype=dtype,\n",
      "C:\\Users\\jose\\anaconda3\\lib\\site-packages\\numpy\\core\\_methods.py:180: RuntimeWarning: invalid value encountered in true_divide\n",
      "  ret = um.true_divide(\n"
     ]
    }
   ],
   "source": [
    "clusters_centers, k_values = find_best_clusters(X, 1,7)"
   ]
  },
  {
   "cell_type": "code",
   "execution_count": 14,
   "id": "a055c28c",
   "metadata": {},
   "outputs": [],
   "source": [
    "ccs = []\n",
    "for c in clusters_centers:\n",
    "    ccs.append(max(c))"
   ]
  },
  {
   "cell_type": "code",
   "execution_count": 15,
   "id": "2c329946",
   "metadata": {},
   "outputs": [
    {
     "data": {
      "image/png": "[encoded data removed]",
      "text/plain": [
       "<Figure size 864x432 with 1 Axes>"
      ]
     },
     "metadata": {
      "needs_background": "light"
     },
     "output_type": "display_data"
    }
   ],
   "source": [
    "generate_elbow_plot(ccs, k_values)"
   ]
  },
  {
   "cell_type": "markdown",
   "id": "ac7b4ee9",
   "metadata": {},
   "source": [
    "#### From the graph above k=3"
   ]
  },
  {
   "cell_type": "code",
   "execution_count": 16,
   "id": "7c5473ae",
   "metadata": {},
   "outputs": [],
   "source": [
    "km = Kmeans(K=3, max_iters=100)"
   ]
  },
  {
   "cell_type": "code",
   "execution_count": 17,
   "id": "2186d706",
   "metadata": {},
   "outputs": [],
   "source": [
    "y_pred = km.predict(np.array(X))"
   ]
  },
  {
   "cell_type": "code",
   "execution_count": 18,
   "id": "e3b6c48c",
   "metadata": {},
   "outputs": [
    {
     "data": {
      "text/plain": [
       "array([2., 2., 2., 2., 2., 2., 2., 2., 2., 2., 2., 2., 2., 2., 2., 2., 2.,\n",
       "       2., 2., 2., 2., 2., 2., 2., 2., 2., 2., 2., 2., 2., 2., 2., 2., 2.,\n",
       "       2., 2., 2., 2., 2., 2., 2., 2., 2., 2., 2., 2., 2., 2., 2., 2., 1.,\n",
       "       1., 1., 1., 1., 1., 1., 2., 1., 1., 2., 1., 1., 1., 1., 1., 1., 1.,\n",
       "       1., 1., 1., 1., 1., 1., 1., 1., 1., 1., 1., 1., 1., 1., 1., 1., 1.,\n",
       "       1., 1., 1., 1., 1., 1., 1., 1., 2., 1., 1., 1., 1., 2., 1., 0., 0.,\n",
       "       0., 0., 0., 0., 1., 0., 0., 0., 0., 0., 0., 1., 0., 0., 0., 0., 0.,\n",
       "       1., 0., 1., 0., 0., 0., 0., 0., 0., 0., 0., 0., 0., 0., 0., 0., 0.,\n",
       "       0., 0., 0., 0., 0., 0., 0., 0., 0., 0., 0., 0., 0., 0.])"
      ]
     },
     "execution_count": 18,
     "metadata": {},
     "output_type": "execute_result"
    }
   ],
   "source": [
    "y_pred"
   ]
  },
  {
   "cell_type": "code",
   "execution_count": 19,
   "id": "91fcb8f1",
   "metadata": {},
   "outputs": [],
   "source": [
    "pred = [] \n",
    "for yp in y_pred:\n",
    "    lbs = {0:'Iris-setosa', 1:'Iris-versicolor', 2:'Iris-virginica'}\n",
    "    for v, l in lbs.items():\n",
    "        if yp == v:\n",
    "            pred.append(l)"
   ]
  },
  {
   "cell_type": "code",
   "execution_count": 31,
   "id": "cc137611",
   "metadata": {},
   "outputs": [],
   "source": [
    "def acc(y_true, y_pred):\n",
    "    n = len(y_true)\n",
    "    count = 0\n",
    "    for i in range(n):\n",
    "        if y_true[i] != y_pred[i]:\n",
    "            count += 1\n",
    "    return count/n"
   ]
  },
  {
   "cell_type": "code",
   "execution_count": 32,
   "id": "8e8fcc0d",
   "metadata": {},
   "outputs": [],
   "source": [
    "accy = acc(y,pred)"
   ]
  },
  {
   "cell_type": "code",
   "execution_count": 33,
   "id": "0eba9337",
   "metadata": {},
   "outputs": [
    {
     "data": {
      "text/plain": [
       "69.33333333333334"
      ]
     },
     "execution_count": 33,
     "metadata": {},
     "output_type": "execute_result"
    }
   ],
   "source": [
    "accy * 100"
   ]
  }
 ],
 "metadata": {
  "kernelspec": {
   "display_name": "Python 3 (ipykernel)",
   "language": "python",
   "name": "python3"
  },
  "language_info": {
   "codemirror_mode": {
    "name": "ipython",
    "version": 3
   },
   "file_extension": ".py",
   "mimetype": "text/x-python",
   "name": "python",
   "nbconvert_exporter": "python",
   "pygments_lexer": "ipython3",
   "version": "3.9.7"
  }
 },
 "nbformat": 4,
 "nbformat_minor": 5
}
